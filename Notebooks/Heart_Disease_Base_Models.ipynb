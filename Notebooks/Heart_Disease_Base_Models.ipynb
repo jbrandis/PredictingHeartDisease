{
  "nbformat": 4,
  "nbformat_minor": 0,
  "metadata": {
    "colab": {
      "provenance": []
    },
    "kernelspec": {
      "name": "python3",
      "display_name": "Python 3"
    },
    "language_info": {
      "name": "python"
    }
  },
  "cells": [
    {
      "cell_type": "code",
      "execution_count": null,
      "metadata": {
        "colab": {
          "base_uri": "https://localhost:8080/"
        },
        "id": "Atoqbltu1Gjn",
        "outputId": "9f5f18e3-ea30-4aaa-9caa-20efd9626988"
      },
      "outputs": [
        {
          "output_type": "stream",
          "name": "stdout",
          "text": [
            "Mounted at /content/drive\n"
          ]
        }
      ],
      "source": [
        "import pandas as pd\n",
        "import numpy as np\n",
        "from matplotlib import pyplot as plt\n",
        "from sklearn.neighbors import KNeighborsClassifier\n",
        "from sklearn.model_selection import GridSearchCV, train_test_split\n",
        "from sklearn.linear_model import LogisticRegression\n",
        "from sklearn.metrics import confusion_matrix, classification_report, accuracy_score, ConfusionMatrixDisplay\n",
        "from sklearn.preprocessing import LabelEncoder, StandardScaler\n",
        "from sklearn.tree import DecisionTreeClassifier, plot_tree\n",
        "from sklearn.ensemble import VotingClassifier, RandomForestClassifier, GradientBoostingClassifier\n",
        "\n",
        "\n",
        "from google.colab import drive\n",
        "drive.mount('/content/drive')\n",
        "drive_dir = '/content/drive/MyDrive/Data Science/Project 3/'"
      ]
    },
    {
      "cell_type": "code",
      "source": [
        "df = pd.read_csv('/content/drive/MyDrive/Copy of heart_2020_cleaned.csv')"
      ],
      "metadata": {
        "id": "UkvnHie21okX"
      },
      "execution_count": null,
      "outputs": []
    },
    {
      "cell_type": "code",
      "source": [
        "df.head()"
      ],
      "metadata": {
        "colab": {
          "base_uri": "https://localhost:8080/",
          "height": 270
        },
        "id": "q2jvtMXq2Ns9",
        "outputId": "ab3c66d2-fee9-43d6-aa82-58e875c0a3f0"
      },
      "execution_count": null,
      "outputs": [
        {
          "output_type": "execute_result",
          "data": {
            "text/plain": [
              "  HeartDisease    BMI Smoking AlcoholDrinking Stroke  PhysicalHealth  \\\n",
              "0           No  16.60     Yes              No     No             3.0   \n",
              "1           No  20.34      No              No    Yes             0.0   \n",
              "2           No  26.58     Yes              No     No            20.0   \n",
              "3           No  24.21      No              No     No             0.0   \n",
              "4           No  23.71      No              No     No            28.0   \n",
              "\n",
              "   MentalHealth DiffWalking     Sex  AgeCategory   Race Diabetic  \\\n",
              "0          30.0          No  Female        55-59  White      Yes   \n",
              "1           0.0          No  Female  80 or older  White       No   \n",
              "2          30.0          No    Male        65-69  White      Yes   \n",
              "3           0.0          No  Female        75-79  White       No   \n",
              "4           0.0         Yes  Female        40-44  White       No   \n",
              "\n",
              "  PhysicalActivity  GenHealth  SleepTime Asthma KidneyDisease SkinCancer  \n",
              "0              Yes  Very good        5.0    Yes            No        Yes  \n",
              "1              Yes  Very good        7.0     No            No         No  \n",
              "2              Yes       Fair        8.0    Yes            No         No  \n",
              "3               No       Good        6.0     No            No        Yes  \n",
              "4              Yes  Very good        8.0     No            No         No  "
            ],
            "text/html": [
              "\n",
              "  <div id=\"df-4af92647-2e49-4e24-b82e-891ba82b50ae\">\n",
              "    <div class=\"colab-df-container\">\n",
              "      <div>\n",
              "<style scoped>\n",
              "    .dataframe tbody tr th:only-of-type {\n",
              "        vertical-align: middle;\n",
              "    }\n",
              "\n",
              "    .dataframe tbody tr th {\n",
              "        vertical-align: top;\n",
              "    }\n",
              "\n",
              "    .dataframe thead th {\n",
              "        text-align: right;\n",
              "    }\n",
              "</style>\n",
              "<table border=\"1\" class=\"dataframe\">\n",
              "  <thead>\n",
              "    <tr style=\"text-align: right;\">\n",
              "      <th></th>\n",
              "      <th>HeartDisease</th>\n",
              "      <th>BMI</th>\n",
              "      <th>Smoking</th>\n",
              "      <th>AlcoholDrinking</th>\n",
              "      <th>Stroke</th>\n",
              "      <th>PhysicalHealth</th>\n",
              "      <th>MentalHealth</th>\n",
              "      <th>DiffWalking</th>\n",
              "      <th>Sex</th>\n",
              "      <th>AgeCategory</th>\n",
              "      <th>Race</th>\n",
              "      <th>Diabetic</th>\n",
              "      <th>PhysicalActivity</th>\n",
              "      <th>GenHealth</th>\n",
              "      <th>SleepTime</th>\n",
              "      <th>Asthma</th>\n",
              "      <th>KidneyDisease</th>\n",
              "      <th>SkinCancer</th>\n",
              "    </tr>\n",
              "  </thead>\n",
              "  <tbody>\n",
              "    <tr>\n",
              "      <th>0</th>\n",
              "      <td>No</td>\n",
              "      <td>16.60</td>\n",
              "      <td>Yes</td>\n",
              "      <td>No</td>\n",
              "      <td>No</td>\n",
              "      <td>3.0</td>\n",
              "      <td>30.0</td>\n",
              "      <td>No</td>\n",
              "      <td>Female</td>\n",
              "      <td>55-59</td>\n",
              "      <td>White</td>\n",
              "      <td>Yes</td>\n",
              "      <td>Yes</td>\n",
              "      <td>Very good</td>\n",
              "      <td>5.0</td>\n",
              "      <td>Yes</td>\n",
              "      <td>No</td>\n",
              "      <td>Yes</td>\n",
              "    </tr>\n",
              "    <tr>\n",
              "      <th>1</th>\n",
              "      <td>No</td>\n",
              "      <td>20.34</td>\n",
              "      <td>No</td>\n",
              "      <td>No</td>\n",
              "      <td>Yes</td>\n",
              "      <td>0.0</td>\n",
              "      <td>0.0</td>\n",
              "      <td>No</td>\n",
              "      <td>Female</td>\n",
              "      <td>80 or older</td>\n",
              "      <td>White</td>\n",
              "      <td>No</td>\n",
              "      <td>Yes</td>\n",
              "      <td>Very good</td>\n",
              "      <td>7.0</td>\n",
              "      <td>No</td>\n",
              "      <td>No</td>\n",
              "      <td>No</td>\n",
              "    </tr>\n",
              "    <tr>\n",
              "      <th>2</th>\n",
              "      <td>No</td>\n",
              "      <td>26.58</td>\n",
              "      <td>Yes</td>\n",
              "      <td>No</td>\n",
              "      <td>No</td>\n",
              "      <td>20.0</td>\n",
              "      <td>30.0</td>\n",
              "      <td>No</td>\n",
              "      <td>Male</td>\n",
              "      <td>65-69</td>\n",
              "      <td>White</td>\n",
              "      <td>Yes</td>\n",
              "      <td>Yes</td>\n",
              "      <td>Fair</td>\n",
              "      <td>8.0</td>\n",
              "      <td>Yes</td>\n",
              "      <td>No</td>\n",
              "      <td>No</td>\n",
              "    </tr>\n",
              "    <tr>\n",
              "      <th>3</th>\n",
              "      <td>No</td>\n",
              "      <td>24.21</td>\n",
              "      <td>No</td>\n",
              "      <td>No</td>\n",
              "      <td>No</td>\n",
              "      <td>0.0</td>\n",
              "      <td>0.0</td>\n",
              "      <td>No</td>\n",
              "      <td>Female</td>\n",
              "      <td>75-79</td>\n",
              "      <td>White</td>\n",
              "      <td>No</td>\n",
              "      <td>No</td>\n",
              "      <td>Good</td>\n",
              "      <td>6.0</td>\n",
              "      <td>No</td>\n",
              "      <td>No</td>\n",
              "      <td>Yes</td>\n",
              "    </tr>\n",
              "    <tr>\n",
              "      <th>4</th>\n",
              "      <td>No</td>\n",
              "      <td>23.71</td>\n",
              "      <td>No</td>\n",
              "      <td>No</td>\n",
              "      <td>No</td>\n",
              "      <td>28.0</td>\n",
              "      <td>0.0</td>\n",
              "      <td>Yes</td>\n",
              "      <td>Female</td>\n",
              "      <td>40-44</td>\n",
              "      <td>White</td>\n",
              "      <td>No</td>\n",
              "      <td>Yes</td>\n",
              "      <td>Very good</td>\n",
              "      <td>8.0</td>\n",
              "      <td>No</td>\n",
              "      <td>No</td>\n",
              "      <td>No</td>\n",
              "    </tr>\n",
              "  </tbody>\n",
              "</table>\n",
              "</div>\n",
              "      <button class=\"colab-df-convert\" onclick=\"convertToInteractive('df-4af92647-2e49-4e24-b82e-891ba82b50ae')\"\n",
              "              title=\"Convert this dataframe to an interactive table.\"\n",
              "              style=\"display:none;\">\n",
              "        \n",
              "  <svg xmlns=\"http://www.w3.org/2000/svg\" height=\"24px\"viewBox=\"0 0 24 24\"\n",
              "       width=\"24px\">\n",
              "    <path d=\"M0 0h24v24H0V0z\" fill=\"none\"/>\n",
              "    <path d=\"M18.56 5.44l.94 2.06.94-2.06 2.06-.94-2.06-.94-.94-2.06-.94 2.06-2.06.94zm-11 1L8.5 8.5l.94-2.06 2.06-.94-2.06-.94L8.5 2.5l-.94 2.06-2.06.94zm10 10l.94 2.06.94-2.06 2.06-.94-2.06-.94-.94-2.06-.94 2.06-2.06.94z\"/><path d=\"M17.41 7.96l-1.37-1.37c-.4-.4-.92-.59-1.43-.59-.52 0-1.04.2-1.43.59L10.3 9.45l-7.72 7.72c-.78.78-.78 2.05 0 2.83L4 21.41c.39.39.9.59 1.41.59.51 0 1.02-.2 1.41-.59l7.78-7.78 2.81-2.81c.8-.78.8-2.07 0-2.86zM5.41 20L4 18.59l7.72-7.72 1.47 1.35L5.41 20z\"/>\n",
              "  </svg>\n",
              "      </button>\n",
              "      \n",
              "  <style>\n",
              "    .colab-df-container {\n",
              "      display:flex;\n",
              "      flex-wrap:wrap;\n",
              "      gap: 12px;\n",
              "    }\n",
              "\n",
              "    .colab-df-convert {\n",
              "      background-color: #E8F0FE;\n",
              "      border: none;\n",
              "      border-radius: 50%;\n",
              "      cursor: pointer;\n",
              "      display: none;\n",
              "      fill: #1967D2;\n",
              "      height: 32px;\n",
              "      padding: 0 0 0 0;\n",
              "      width: 32px;\n",
              "    }\n",
              "\n",
              "    .colab-df-convert:hover {\n",
              "      background-color: #E2EBFA;\n",
              "      box-shadow: 0px 1px 2px rgba(60, 64, 67, 0.3), 0px 1px 3px 1px rgba(60, 64, 67, 0.15);\n",
              "      fill: #174EA6;\n",
              "    }\n",
              "\n",
              "    [theme=dark] .colab-df-convert {\n",
              "      background-color: #3B4455;\n",
              "      fill: #D2E3FC;\n",
              "    }\n",
              "\n",
              "    [theme=dark] .colab-df-convert:hover {\n",
              "      background-color: #434B5C;\n",
              "      box-shadow: 0px 1px 3px 1px rgba(0, 0, 0, 0.15);\n",
              "      filter: drop-shadow(0px 1px 2px rgba(0, 0, 0, 0.3));\n",
              "      fill: #FFFFFF;\n",
              "    }\n",
              "  </style>\n",
              "\n",
              "      <script>\n",
              "        const buttonEl =\n",
              "          document.querySelector('#df-4af92647-2e49-4e24-b82e-891ba82b50ae button.colab-df-convert');\n",
              "        buttonEl.style.display =\n",
              "          google.colab.kernel.accessAllowed ? 'block' : 'none';\n",
              "\n",
              "        async function convertToInteractive(key) {\n",
              "          const element = document.querySelector('#df-4af92647-2e49-4e24-b82e-891ba82b50ae');\n",
              "          const dataTable =\n",
              "            await google.colab.kernel.invokeFunction('convertToInteractive',\n",
              "                                                     [key], {});\n",
              "          if (!dataTable) return;\n",
              "\n",
              "          const docLinkHtml = 'Like what you see? Visit the ' +\n",
              "            '<a target=\"_blank\" href=https://colab.research.google.com/notebooks/data_table.ipynb>data table notebook</a>'\n",
              "            + ' to learn more about interactive tables.';\n",
              "          element.innerHTML = '';\n",
              "          dataTable['output_type'] = 'display_data';\n",
              "          await google.colab.output.renderOutput(dataTable, element);\n",
              "          const docLink = document.createElement('div');\n",
              "          docLink.innerHTML = docLinkHtml;\n",
              "          element.appendChild(docLink);\n",
              "        }\n",
              "      </script>\n",
              "    </div>\n",
              "  </div>\n",
              "  "
            ]
          },
          "metadata": {},
          "execution_count": 3
        }
      ]
    },
    {
      "cell_type": "markdown",
      "source": [
        "#**Data Prep and Clean-up**"
      ],
      "metadata": {
        "id": "9rdVHy0gYScB"
      }
    },
    {
      "cell_type": "markdown",
      "source": [
        "### Label Encoder"
      ],
      "metadata": {
        "id": "C4HLS4dEYhKJ"
      }
    },
    {
      "cell_type": "code",
      "source": [
        "heartDisease_le = LabelEncoder()\n",
        "stroke_le = LabelEncoder()\n",
        "sex_le = LabelEncoder()\n",
        "diabetic_le = LabelEncoder()\n",
        "asthma_le = LabelEncoder()\n",
        "kidneyDisease_le = LabelEncoder()\n",
        "skinCancer_le = LabelEncoder()\n",
        "smoking_le = LabelEncoder()\n",
        "alcohol_le = LabelEncoder()\n",
        "race_le = LabelEncoder()\n",
        "diabetic_le = LabelEncoder()\n",
        "activity_le = LabelEncoder()\n",
        "health_le = LabelEncoder()\n",
        "walk_le = LabelEncoder()\n",
        "gen_health_le = LabelEncoder()"
      ],
      "metadata": {
        "id": "6Y3VEWKE0CMS"
      },
      "execution_count": null,
      "outputs": []
    },
    {
      "cell_type": "code",
      "source": [
        "df['HeartDisease'] = heartDisease_le.fit_transform(df['HeartDisease'])\n",
        "df['Stroke'] = stroke_le.fit_transform(df['Stroke'])\n",
        "df['Sex'] = sex_le.fit_transform(df['Sex'])\n",
        "df['Diabetic'] = diabetic_le.fit_transform(df['Diabetic'])\n",
        "df['Asthma'] = asthma_le.fit_transform(df['Asthma'])\n",
        "df['KidneyDisease'] = kidneyDisease_le.fit_transform(df['KidneyDisease'])\n",
        "df['SkinCancer'] = skinCancer_le.fit_transform(df['SkinCancer'])\n",
        "df['Smoking'] = smoking_le.fit_transform(df['Smoking'])\n",
        "df['AlcoholDrinking'] = alcohol_le.fit_transform(df['AlcoholDrinking'])\n",
        "df['Race'] = race_le.fit_transform(df['Race'])\n",
        "df['PhysicalActivity'] = activity_le.fit_transform(df['PhysicalActivity'])\n",
        "df['DiffWalking'] = walk_le.fit_transform(df['DiffWalking'])\n",
        "df['GenHealth'] = gen_health_le.fit_transform(df['GenHealth'])"
      ],
      "metadata": {
        "id": "mDH65bqu0aez"
      },
      "execution_count": null,
      "outputs": []
    },
    {
      "cell_type": "code",
      "source": [
        "df = pd.concat([df, pd.get_dummies(df['Diabetic'], prefix='Diabetic')], axis=1)\n",
        "df = pd.concat([df, pd.get_dummies(df['Sex'], prefix='Sex')], axis=1)\n",
        "df = pd.concat([df, pd.get_dummies(df['AgeCategory'], prefix='AgeCategory')], axis=1)\n",
        "df = pd.concat([df, pd.get_dummies(df['Race'], prefix='Race')], axis=1)\n",
        "\n",
        "df = df.drop(columns=['AgeCategory', 'Race', 'Diabetic'])"
      ],
      "metadata": {
        "id": "hvgzRULSgJGb"
      },
      "execution_count": null,
      "outputs": []
    },
    {
      "cell_type": "code",
      "source": [
        "df['Is_Diabetic'] = (df['Diabetic_2'] == 1) | (df['Diabetic_3'] == 1)"
      ],
      "metadata": {
        "id": "ryfNuP9HeS24"
      },
      "execution_count": null,
      "outputs": []
    },
    {
      "cell_type": "markdown",
      "source": [
        "## Dummy Variables"
      ],
      "metadata": {
        "id": "9XzCpJjMYkBY"
      }
    },
    {
      "cell_type": "code",
      "source": [
        "df_heartDisease = df.groupby('HeartDisease').agg({'HeartDisease': 'count', 'Stroke': 'sum', 'Asthma': 'sum', 'KidneyDisease': 'sum', 'SkinCancer': 'sum', 'Diabetic_2': 'sum', 'Diabetic_3': 'sum'})\n",
        "df_heartDisease = df_heartDisease.rename({'HeartDisease': 'Count'}, axis=1)\n",
        "df_heartDisease = df_heartDisease.reset_index()\n",
        "\n",
        "df_heartDisease['num_stroke_per_10k'] = (df_heartDisease['Stroke']/df_heartDisease['Count']) * 1000\n",
        "df_heartDisease['num_asthma_per_10k'] = (df_heartDisease['Asthma']/df_heartDisease['Count']) * 1000\n",
        "df_heartDisease['num_kidney_per_10k'] = (df_heartDisease['KidneyDisease']/df_heartDisease['Count']) * 1000\n",
        "df_heartDisease['num_skin_per_10k'] = (df_heartDisease['SkinCancer']/df_heartDisease['Count']) * 1000\n",
        "df_heartDisease['num_diabetic2_per_10k'] = (df_heartDisease['Diabetic_2']/df_heartDisease['Count']) * 1000"
      ],
      "metadata": {
        "id": "w8B7u25bAlhG"
      },
      "execution_count": null,
      "outputs": []
    },
    {
      "cell_type": "markdown",
      "source": [
        "#**Create Train Test Split**"
      ],
      "metadata": {
        "id": "h7HKMcVvYvH7"
      }
    },
    {
      "cell_type": "code",
      "source": [
        "heartDisease_df = df[df['HeartDisease'] == 1]\n",
        "train_heartDisease, test_heartDisease = train_test_split(heartDisease_df, train_size=0.7)\n",
        "num_heartDisease = len(train_heartDisease)\n",
        "\n",
        "no_heartDisease_df = df[df['HeartDisease'] == 0]\n",
        "train_noHeartDisease, test_noHeartDisease = train_test_split(no_heartDisease_df, train_size=num_heartDisease)\n",
        "\n",
        "train_df = pd.concat([train_heartDisease, train_noHeartDisease])\n",
        "test_df = pd.concat([test_heartDisease, test_noHeartDisease])"
      ],
      "metadata": {
        "id": "WvjzNvjg0gMk"
      },
      "execution_count": null,
      "outputs": []
    },
    {
      "cell_type": "markdown",
      "source": [
        "### Choose factors for X and Y"
      ],
      "metadata": {
        "id": "fPgOGTZeY3Wg"
      }
    },
    {
      "cell_type": "code",
      "source": [
        "df.columns"
      ],
      "metadata": {
        "colab": {
          "base_uri": "https://localhost:8080/"
        },
        "id": "8ox1P9PigU_x",
        "outputId": "8dc0c04e-6510-43d6-cba6-0b434756ea6b"
      },
      "execution_count": null,
      "outputs": [
        {
          "output_type": "execute_result",
          "data": {
            "text/plain": [
              "Index(['HeartDisease', 'BMI', 'Smoking', 'AlcoholDrinking', 'Stroke',\n",
              "       'PhysicalHealth', 'MentalHealth', 'DiffWalking', 'Sex',\n",
              "       'PhysicalActivity', 'GenHealth', 'SleepTime', 'Asthma', 'KidneyDisease',\n",
              "       'SkinCancer', 'Diabetic_0', 'Diabetic_1', 'Diabetic_2', 'Diabetic_3',\n",
              "       'Sex_0', 'Sex_1', 'AgeCategory_18-24', 'AgeCategory_25-29',\n",
              "       'AgeCategory_30-34', 'AgeCategory_35-39', 'AgeCategory_40-44',\n",
              "       'AgeCategory_45-49', 'AgeCategory_50-54', 'AgeCategory_55-59',\n",
              "       'AgeCategory_60-64', 'AgeCategory_65-69', 'AgeCategory_70-74',\n",
              "       'AgeCategory_75-79', 'AgeCategory_80 or older', 'Race_0', 'Race_1',\n",
              "       'Race_2', 'Race_3', 'Race_4', 'Race_5', 'Is_Diabetic'],\n",
              "      dtype='object')"
            ]
          },
          "metadata": {},
          "execution_count": 10
        }
      ]
    },
    {
      "cell_type": "code",
      "source": [
        "# , 'SkinCancer', 'Asthma', 'KidneyDisease', 'Diabetic'\n",
        "X_train = train_df[['Sex', 'AgeCategory_18-24', 'AgeCategory_25-29',\n",
        "       'AgeCategory_30-34', 'AgeCategory_35-39', 'AgeCategory_40-44',\n",
        "       'AgeCategory_45-49', 'AgeCategory_50-54', 'AgeCategory_55-59',\n",
        "       'AgeCategory_60-64', 'AgeCategory_65-69', 'AgeCategory_70-74',\n",
        "       'AgeCategory_75-79', 'AgeCategory_80 or older', 'Race_0', 'Race_1',\n",
        "       'Race_2', 'Race_3', 'Race_4', 'Race_5',]]\n",
        "X_test = test_df[['Sex', 'AgeCategory_18-24', 'AgeCategory_25-29',\n",
        "       'AgeCategory_30-34', 'AgeCategory_35-39', 'AgeCategory_40-44',\n",
        "       'AgeCategory_45-49', 'AgeCategory_50-54', 'AgeCategory_55-59',\n",
        "       'AgeCategory_60-64', 'AgeCategory_65-69', 'AgeCategory_70-74',\n",
        "       'AgeCategory_75-79', 'AgeCategory_80 or older', 'Race_0', 'Race_1',\n",
        "       'Race_2', 'Race_3', 'Race_4', 'Race_5',]]\n",
        "y_train = train_df['HeartDisease']\n",
        "y_test = test_df['HeartDisease']"
      ],
      "metadata": {
        "id": "9rIUuizcE2Dq"
      },
      "execution_count": null,
      "outputs": []
    },
    {
      "cell_type": "markdown",
      "source": [
        "#**Logistic Regression**"
      ],
      "metadata": {
        "id": "blwfDNgkYzwO"
      }
    },
    {
      "cell_type": "markdown",
      "source": [
        "### Train Model"
      ],
      "metadata": {
        "id": "-GkDAwIpY7Ym"
      }
    },
    {
      "cell_type": "code",
      "source": [
        "logr = LogisticRegression(max_iter=10000)\n",
        "logr.fit(X_train, y_train)\n",
        "\n",
        "logr_preds = logr.predict(X_test)\n",
        "logr_proba_preds = logr.predict_proba(X_test)[:,1]"
      ],
      "metadata": {
        "id": "9DUzsAaKV64e"
      },
      "execution_count": null,
      "outputs": []
    },
    {
      "cell_type": "markdown",
      "source": [
        "### Model Evaluation"
      ],
      "metadata": {
        "id": "sDtxCdAGY9nI"
      }
    },
    {
      "cell_type": "code",
      "source": [
        "ConfusionMatrixDisplay.from_predictions(y_test, logr_preds, normalize='true')\n",
        "plt.show()"
      ],
      "metadata": {
        "colab": {
          "base_uri": "https://localhost:8080/",
          "height": 279
        },
        "id": "LPX75PDhBpqg",
        "outputId": "8bf417d0-d530-4d50-9a1a-21d70010673d"
      },
      "execution_count": null,
      "outputs": [
        {
          "output_type": "display_data",
          "data": {
            "text/plain": [
              "<Figure size 432x288 with 2 Axes>"
            ],
            "image/png": "[encoded data removed]"
          },
          "metadata": {
            "needs_background": "light"
          }
        }
      ]
    },
    {
      "cell_type": "code",
      "source": [
        "print(classification_report(y_test, logr_preds))"
      ],
      "metadata": {
        "colab": {
          "base_uri": "https://localhost:8080/"
        },
        "id": "v4fP51Neo9zE",
        "outputId": "0d079e4f-ed45-4e7b-883c-f6ef20c6c246"
      },
      "execution_count": null,
      "outputs": [
        {
          "output_type": "stream",
          "name": "stdout",
          "text": [
            "              precision    recall  f1-score   support\n",
            "\n",
            "           0       0.99      0.59      0.74    273261\n",
            "           1       0.06      0.80      0.10      8212\n",
            "\n",
            "    accuracy                           0.60    281473\n",
            "   macro avg       0.52      0.69      0.42    281473\n",
            "weighted avg       0.96      0.60      0.72    281473\n",
            "\n"
          ]
        }
      ]
    },
    {
      "cell_type": "code",
      "source": [
        "accuracy_score(y_test, logr_preds)"
      ],
      "metadata": {
        "colab": {
          "base_uri": "https://localhost:8080/"
        },
        "id": "73EZH5ZL3fIj",
        "outputId": "aa3e6398-c715-40f5-d27e-8f6d83cfb05d"
      },
      "execution_count": null,
      "outputs": [
        {
          "output_type": "execute_result",
          "data": {
            "text/plain": [
              "0.5956024201255538"
            ]
          },
          "metadata": {},
          "execution_count": 15
        }
      ]
    },
    {
      "cell_type": "code",
      "source": [
        "from sklearn.metrics import roc_auc_score\n",
        "\n",
        "roc_auc_score(y_test, logr_preds)"
      ],
      "metadata": {
        "colab": {
          "base_uri": "https://localhost:8080/"
        },
        "id": "cO7kclDluuQM",
        "outputId": "be525068-d6c7-471a-ef9d-16f6bf82e64c"
      },
      "execution_count": null,
      "outputs": [
        {
          "output_type": "execute_result",
          "data": {
            "text/plain": [
              "0.6935724344285639"
            ]
          },
          "metadata": {},
          "execution_count": 39
        }
      ]
    },
    {
      "cell_type": "markdown",
      "source": [
        "### Coefficient Analysis"
      ],
      "metadata": {
        "id": "E7F_zxNLZCQG"
      }
    },
    {
      "cell_type": "code",
      "source": [
        "logr.coef_"
      ],
      "metadata": {
        "colab": {
          "base_uri": "https://localhost:8080/"
        },
        "id": "uEMrUgqnGsYG",
        "outputId": "65f90500-e7eb-4bd8-9b3e-5a06289882ca"
      },
      "execution_count": null,
      "outputs": [
        {
          "output_type": "execute_result",
          "data": {
            "text/plain": [
              "array([[ 0.63503194, -2.07483677, -1.94184741, -1.30393222, -1.13780694,\n",
              "        -0.79120874, -0.37338883,  0.21862368,  0.52575568,  0.88700533,\n",
              "         1.06699258,  1.36351531,  1.61902435,  1.94229158,  0.4936674 ,\n",
              "        -0.72862488,  0.06174698,  0.02093493,  0.24802708, -0.09556391]])"
            ]
          },
          "metadata": {},
          "execution_count": 16
        }
      ]
    },
    {
      "cell_type": "code",
      "source": [
        "plt.figure(figsize=(12,8))\n",
        "plt.bar(x=X_train.columns,\n",
        "        height=logr.coef_[0])\n",
        "plt.ylabel('Contribution to Heart Disease')\n",
        "plt.xticks(rotation=75);"
      ],
      "metadata": {
        "colab": {
          "base_uri": "https://localhost:8080/",
          "height": 595
        },
        "id": "HN5TBnh0GzNb",
        "outputId": "1121c524-3a34-4613-9fcc-808799b7bbbd"
      },
      "execution_count": null,
      "outputs": [
        {
          "output_type": "display_data",
          "data": {
            "text/plain": [
              "<Figure size 864x576 with 1 Axes>"
            ],
            "image/png": "[encoded data removed]"
          },
          "metadata": {
            "needs_background": "light"
          }
        }
      ]
    },
    {
      "cell_type": "markdown",
      "source": [
        "#**Nearest Neighbors Model**"
      ],
      "metadata": {
        "id": "YPaljcTKZIV5"
      }
    },
    {
      "cell_type": "markdown",
      "source": [
        "### Scale the Data"
      ],
      "metadata": {
        "id": "44t0EtnbZOi5"
      }
    },
    {
      "cell_type": "code",
      "source": [
        "ss = StandardScaler()\n",
        "\n",
        "X_train_scaled = ss.fit_transform(X_train)"
      ],
      "metadata": {
        "id": "co2WGBvKw8Ce"
      },
      "execution_count": null,
      "outputs": []
    },
    {
      "cell_type": "markdown",
      "source": [
        "### Fit the Model"
      ],
      "metadata": {
        "id": "i4tVufttZXW3"
      }
    },
    {
      "cell_type": "code",
      "source": [
        "knn_params = {'n_neighbors': [2, 5, 10, 20, 30, 40, 50]}\n",
        "\n",
        "knn = KNeighborsClassifier()\n",
        "\n",
        "knn_grid_search = GridSearchCV(knn, knn_params)\n",
        "\n",
        "knn_grid_search.fit(X_train_scaled, y_train)\n",
        "\n",
        "knn_preds = knn_grid_search.predict(X_test)"
      ],
      "metadata": {
        "id": "FXqV84jaxBlo",
        "colab": {
          "base_uri": "https://localhost:8080/"
        },
        "outputId": "85e081de-2a25-46f1-d7ad-190396bc1b55"
      },
      "execution_count": null,
      "outputs": [
        {
          "output_type": "stream",
          "name": "stderr",
          "text": [
            "/usr/local/lib/python3.9/dist-packages/sklearn/base.py:432: UserWarning: X has feature names, but KNeighborsClassifier was fitted without feature names\n",
            "  warnings.warn(\n"
          ]
        }
      ]
    },
    {
      "cell_type": "markdown",
      "source": [
        "### Model Evaluation"
      ],
      "metadata": {
        "id": "gNNlJpwgZZCH"
      }
    },
    {
      "cell_type": "code",
      "source": [
        "ConfusionMatrixDisplay.from_predictions(y_test, knn_preds, normalize='true')\n",
        "plt.show()"
      ],
      "metadata": {
        "colab": {
          "base_uri": "https://localhost:8080/",
          "height": 279
        },
        "id": "t1QzoiHYBt4_",
        "outputId": "ea108270-9c44-4da7-b75a-013bdb3d5cb6"
      },
      "execution_count": null,
      "outputs": [
        {
          "output_type": "display_data",
          "data": {
            "text/plain": [
              "<Figure size 432x288 with 2 Axes>"
            ],
            "image/png": "[encoded data removed]"
          },
          "metadata": {
            "needs_background": "light"
          }
        }
      ]
    },
    {
      "cell_type": "code",
      "source": [
        "knn_grid_search.best_params_"
      ],
      "metadata": {
        "colab": {
          "base_uri": "https://localhost:8080/"
        },
        "id": "GV30PuKRxG_5",
        "outputId": "5801470f-3a67-4434-d09f-0a71d8aa8436"
      },
      "execution_count": null,
      "outputs": [
        {
          "output_type": "execute_result",
          "data": {
            "text/plain": [
              "{'n_neighbors': 50}"
            ]
          },
          "metadata": {},
          "execution_count": 21
        }
      ]
    },
    {
      "cell_type": "code",
      "source": [
        "print(classification_report(y_test, knn_preds))"
      ],
      "metadata": {
        "colab": {
          "base_uri": "https://localhost:8080/"
        },
        "id": "YpMBG1FEsDmS",
        "outputId": "2b14355d-700f-4ce6-b50d-c91b37f4752a"
      },
      "execution_count": null,
      "outputs": [
        {
          "output_type": "stream",
          "name": "stdout",
          "text": [
            "              precision    recall  f1-score   support\n",
            "\n",
            "           0       0.97      0.13      0.24    273261\n",
            "           1       0.03      0.87      0.06      8212\n",
            "\n",
            "    accuracy                           0.16    281473\n",
            "   macro avg       0.50      0.50      0.15    281473\n",
            "weighted avg       0.94      0.16      0.23    281473\n",
            "\n"
          ]
        }
      ]
    },
    {
      "cell_type": "code",
      "source": [
        "accuracy_score(y_test, knn_preds)"
      ],
      "metadata": {
        "colab": {
          "base_uri": "https://localhost:8080/"
        },
        "id": "e5_CYg7t14DC",
        "outputId": "171e3d21-ae2a-46a7-dd82-d29f4c714d68"
      },
      "execution_count": null,
      "outputs": [
        {
          "output_type": "execute_result",
          "data": {
            "text/plain": [
              "0.15584798541956066"
            ]
          },
          "metadata": {},
          "execution_count": 23
        }
      ]
    },
    {
      "cell_type": "markdown",
      "source": [
        "# **Decision Tree Model**"
      ],
      "metadata": {
        "id": "_kulVEbiZnDf"
      }
    },
    {
      "cell_type": "markdown",
      "source": [
        "### Fit the Model"
      ],
      "metadata": {
        "id": "q1hnQufFZ2dM"
      }
    },
    {
      "cell_type": "code",
      "source": [
        "dtc = DecisionTreeClassifier()\n",
        "\n",
        "dtc_parms = {'max_depth': [2, 5, 10, 25, 50, 100],\n",
        "             'min_samples_split': [2, 5, 10, 25, 50, 100],\n",
        "             'min_samples_leaf': [2, 5, 10, 25, 50, 100]}\n",
        "\n",
        "dtc_grid_search = GridSearchCV(dtc, dtc_parms)\n",
        "\n",
        "dtc_grid_search.fit(X_train, y_train)\n",
        "\n",
        "dtc_preds = dtc_grid_search.predict(X_test)"
      ],
      "metadata": {
        "id": "x_7EjY6OZomZ"
      },
      "execution_count": null,
      "outputs": []
    },
    {
      "cell_type": "markdown",
      "source": [
        "### Model Evaluation"
      ],
      "metadata": {
        "id": "W_hNbzBwZ4CF"
      }
    },
    {
      "cell_type": "code",
      "source": [
        "ConfusionMatrixDisplay.from_predictions(y_test, dtc_preds, normalize='true')\n",
        "plt.show()"
      ],
      "metadata": {
        "colab": {
          "base_uri": "https://localhost:8080/",
          "height": 279
        },
        "outputId": "00172463-ed79-467b-f9ba-e5e2e03bc257",
        "id": "dgCmGdVlZomb"
      },
      "execution_count": null,
      "outputs": [
        {
          "output_type": "display_data",
          "data": {
            "text/plain": [
              "<Figure size 432x288 with 2 Axes>"
            ],
            "image/png": "[encoded data removed]"
          },
          "metadata": {
            "needs_background": "light"
          }
        }
      ]
    },
    {
      "cell_type": "code",
      "source": [
        "dtc_grid_search.best_params_"
      ],
      "metadata": {
        "colab": {
          "base_uri": "https://localhost:8080/"
        },
        "outputId": "b07a482c-01d7-4c57-98db-e0ab1c813dda",
        "id": "dGTNVfb1Zomb"
      },
      "execution_count": null,
      "outputs": [
        {
          "output_type": "execute_result",
          "data": {
            "text/plain": [
              "{'max_depth': 10, 'min_samples_leaf': 2, 'min_samples_split': 2}"
            ]
          },
          "metadata": {},
          "execution_count": 26
        }
      ]
    },
    {
      "cell_type": "code",
      "source": [
        "print(classification_report(y_test, dtc_preds))"
      ],
      "metadata": {
        "colab": {
          "base_uri": "https://localhost:8080/"
        },
        "outputId": "c22c3c6c-30bd-48f1-fec5-95b733dc2589",
        "id": "5wwD70u8Zomc"
      },
      "execution_count": null,
      "outputs": [
        {
          "output_type": "stream",
          "name": "stdout",
          "text": [
            "              precision    recall  f1-score   support\n",
            "\n",
            "           0       0.99      0.62      0.76    273261\n",
            "           1       0.06      0.77      0.11      8212\n",
            "\n",
            "    accuracy                           0.63    281473\n",
            "   macro avg       0.52      0.70      0.44    281473\n",
            "weighted avg       0.96      0.63      0.75    281473\n",
            "\n"
          ]
        }
      ]
    },
    {
      "cell_type": "code",
      "source": [
        "accuracy_score(y_test, dtc_preds)"
      ],
      "metadata": {
        "colab": {
          "base_uri": "https://localhost:8080/"
        },
        "outputId": "acf68a97-cb35-42ba-9c91-d10a2b31db39",
        "id": "fCC8tRq4Zomc"
      },
      "execution_count": null,
      "outputs": [
        {
          "output_type": "execute_result",
          "data": {
            "text/plain": [
              "0.627978527247729"
            ]
          },
          "metadata": {},
          "execution_count": 28
        }
      ]
    },
    {
      "cell_type": "markdown",
      "source": [
        "# **Random Forest Classifier Model**"
      ],
      "metadata": {
        "id": "SbB6_9-sbfVZ"
      }
    },
    {
      "cell_type": "markdown",
      "source": [
        "### Fit the Model"
      ],
      "metadata": {
        "id": "9GodDtR7bnP3"
      }
    },
    {
      "cell_type": "code",
      "source": [
        "rfc = RandomForestClassifier()\n",
        "\n",
        "rfc_params = {'max_depth': [25, 50, 100],\n",
        "             'min_samples_split': [ 25, 50, 100],\n",
        "             'min_samples_leaf': [25, 50, 100],\n",
        "             'n_estimators': [300, 350, 400]}\n",
        "\n",
        "rfc_grid_search = GridSearchCV(rfc, rfc_params)\n",
        "\n",
        "rfc_grid_search.fit(X_train, y_train)\n",
        "\n",
        "rfc_grid_search_preds = rfc_grid_search.predict(X_test)"
      ],
      "metadata": {
        "id": "pnCI7OQ8p9li"
      },
      "execution_count": null,
      "outputs": []
    },
    {
      "cell_type": "markdown",
      "source": [
        "### Model Evaluation"
      ],
      "metadata": {
        "id": "caoFGnehbpLC"
      }
    },
    {
      "cell_type": "code",
      "source": [
        "ConfusionMatrixDisplay.from_predictions(y_test, rfc_grid_search_preds, normalize='true')\n",
        "plt.show()"
      ],
      "metadata": {
        "id": "CrGRyesup9lm",
        "colab": {
          "base_uri": "https://localhost:8080/",
          "height": 279
        },
        "outputId": "edfa18ee-67e4-432e-84d1-9d88980f67a2"
      },
      "execution_count": null,
      "outputs": [
        {
          "output_type": "display_data",
          "data": {
            "text/plain": [
              "<Figure size 432x288 with 2 Axes>"
            ],
            "image/png": "[encoded data removed]"
          },
          "metadata": {
            "needs_background": "light"
          }
        }
      ]
    },
    {
      "cell_type": "code",
      "source": [
        "from sklearn.metrics import accuracy_score, precision_score\n",
        "\n",
        "print(accuracy_score(y_test, rfc_grid_search_preds))\n"
      ],
      "metadata": {
        "colab": {
          "base_uri": "https://localhost:8080/"
        },
        "id": "VVc5-lKFjAYC",
        "outputId": "b5a0c70f-534a-47e5-e3e3-a3d41d5cb2fe"
      },
      "execution_count": null,
      "outputs": [
        {
          "output_type": "stream",
          "name": "stdout",
          "text": [
            "0.6352083503568726\n"
          ]
        }
      ]
    },
    {
      "cell_type": "code",
      "source": [
        "rfc_grid_search.best_params_"
      ],
      "metadata": {
        "id": "ZTE27Oofp9ll",
        "colab": {
          "base_uri": "https://localhost:8080/"
        },
        "outputId": "4182923e-d68d-4ff6-8232-711b6b4f149b"
      },
      "execution_count": null,
      "outputs": [
        {
          "output_type": "execute_result",
          "data": {
            "text/plain": [
              "{'max_depth': 50,\n",
              " 'min_samples_leaf': 25,\n",
              " 'min_samples_split': 100,\n",
              " 'n_estimators': 350}"
            ]
          },
          "metadata": {},
          "execution_count": 32
        }
      ]
    },
    {
      "cell_type": "markdown",
      "source": [
        "# **Gradient Boosting Classifier (Code is available, but takes a long time to run)**"
      ],
      "metadata": {
        "id": "0IaOJEJkbsc0"
      }
    },
    {
      "cell_type": "markdown",
      "source": [
        "### Fit the Model"
      ],
      "metadata": {
        "id": "NR_CyJ8obxhR"
      }
    },
    {
      "cell_type": "code",
      "source": [
        "# gbc = GradientBoostingClassifier()\n",
        "\n",
        "# gbc_params = {'max_depth': [2, 5, 10, 50],\n",
        "#               'min_samples_split': [2, 5, 10, 25, 50],\n",
        "#               'min_samples_leaf': [2, 5, 10, 25, 50],\n",
        "#               'n_estimators': [50, 100, 150, 200, 250], \n",
        "#               'learning_rate': [0.05, 0.25, 0.5, 0.75, 1]}\n",
        "\n",
        "# gbc_grid_search = GridSearchCV(gbc, gbc_params)\n",
        "\n",
        "# gbc_grid_search.fit(X_train, y_train)\n",
        "\n",
        "# gbc_grid_search_preds = gbc_grid_search.predict(X_test)"
      ],
      "metadata": {
        "id": "wTpw2GBVq556"
      },
      "execution_count": null,
      "outputs": []
    },
    {
      "cell_type": "markdown",
      "source": [
        "### Model Evaluation"
      ],
      "metadata": {
        "id": "sr6kP8cdb6rx"
      }
    },
    {
      "cell_type": "code",
      "source": [
        "# gbc_grid_search.best_params_"
      ],
      "metadata": {
        "id": "GiPZECiRq559"
      },
      "execution_count": null,
      "outputs": []
    },
    {
      "cell_type": "code",
      "source": [
        "# ConfusionMatrixDisplay.from_predictions(y_test, gbc_grid_search_preds, normalize='true')\n",
        "# plt.show()"
      ],
      "metadata": {
        "id": "9rlf-6REq55-"
      },
      "execution_count": null,
      "outputs": []
    },
    {
      "cell_type": "markdown",
      "source": [
        "# **Ensemble Model**"
      ],
      "metadata": {
        "id": "EtrKWEh-abJt"
      }
    },
    {
      "cell_type": "markdown",
      "source": [
        "### Fit Model"
      ],
      "metadata": {
        "id": "--4ZSwMGa3C-"
      }
    },
    {
      "cell_type": "code",
      "source": [
        "vote_clf = VotingClassifier([('logr', logr), ('dtc', dtc_grid_search.best_estimator_), ('rfc', rfc_grid_search.best_estimator_)])\n",
        "\n",
        "vote_clf.fit(X_train, y_train)\n",
        "\n",
        "vote_preds = vote_clf.predict(X_test)"
      ],
      "metadata": {
        "id": "SDoCdDrIyXL_"
      },
      "execution_count": null,
      "outputs": []
    },
    {
      "cell_type": "markdown",
      "source": [
        "### Model Evaluation"
      ],
      "metadata": {
        "id": "rTSj_3Aja4Te"
      }
    },
    {
      "cell_type": "code",
      "source": [
        "ConfusionMatrixDisplay.from_predictions(y_test, vote_preds, normalize='true')\n",
        "plt.show()"
      ],
      "metadata": {
        "id": "vNuqeHCXypSG",
        "colab": {
          "base_uri": "https://localhost:8080/",
          "height": 279
        },
        "outputId": "913412e7-59c4-42d5-bcb7-e4fcee5afeec"
      },
      "execution_count": null,
      "outputs": [
        {
          "output_type": "display_data",
          "data": {
            "text/plain": [
              "<Figure size 432x288 with 2 Axes>"
            ],
            "image/png": "[encoded data removed]"
          },
          "metadata": {
            "needs_background": "light"
          }
        }
      ]
    },
    {
      "cell_type": "code",
      "source": [
        "accuracy_score(y_test, vote_preds)"
      ],
      "metadata": {
        "id": "0ieEC5Jwyhz-",
        "colab": {
          "base_uri": "https://localhost:8080/"
        },
        "outputId": "09bbd2a7-b146-4aab-fd94-b514cc69704e"
      },
      "execution_count": null,
      "outputs": [
        {
          "output_type": "execute_result",
          "data": {
            "text/plain": [
              "0.6331015763501295"
            ]
          },
          "metadata": {},
          "execution_count": 38
        }
      ]
    },
    {
      "cell_type": "code",
      "source": [
        "roc_auc_score(y_test, vote_preds)"
      ],
      "metadata": {
        "colab": {
          "base_uri": "https://localhost:8080/"
        },
        "id": "RsBPaOFrvs3Y",
        "outputId": "0b37f3ec-d2fa-4d43-e8bc-6e4f4082670e"
      },
      "execution_count": null,
      "outputs": [
        {
          "output_type": "execute_result",
          "data": {
            "text/plain": [
              "0.6976488293461814"
            ]
          },
          "metadata": {},
          "execution_count": 40
        }
      ]
    }
  ]
}