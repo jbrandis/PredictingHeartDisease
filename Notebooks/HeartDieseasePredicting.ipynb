{
  "nbformat": 4,
  "nbformat_minor": 0,
  "metadata": {
    "colab": {
      "provenance": []
    },
    "kernelspec": {
      "name": "python3",
      "display_name": "Python 3"
    },
    "language_info": {
      "name": "python"
    }
  },
  "cells": [
    {
      "cell_type": "code",
      "execution_count": 1,
      "metadata": {
        "colab": {
          "base_uri": "https://localhost:8080/"
        },
        "id": "AAZTdu33pqNO",
        "outputId": "a74fe67a-ba3a-4205-ce32-c890c884c9e8"
      },
      "outputs": [
        {
          "output_type": "stream",
          "name": "stdout",
          "text": [
            "Mounted at /content/drive\n"
          ]
        }
      ],
      "source": [
        "import pandas as pd\n",
        "\n",
        "from google.colab import drive\n",
        "drive.mount('/content/drive')\n",
        "from matplotlib import pyplot as plt"
      ]
    },
    {
      "cell_type": "markdown",
      "source": [
        "#**Loading and Cleaning Data**"
      ],
      "metadata": {
        "id": "k6LUjXbxEXh4"
      }
    },
    {
      "cell_type": "code",
      "source": [
        "df = pd.read_csv('/content/drive/MyDrive/Copy of heart_2020_cleaned.csv')\n",
        "df.head()"
      ],
      "metadata": {
        "id": "7wa3th5gqFRv",
        "colab": {
          "base_uri": "https://localhost:8080/",
          "height": 270
        },
        "outputId": "23454757-2e83-46c3-927f-d8153f177f0a"
      },
      "execution_count": 2,
      "outputs": [
        {
          "output_type": "execute_result",
          "data": {
            "text/plain": [
              "  HeartDisease    BMI Smoking AlcoholDrinking Stroke  PhysicalHealth  \\\n",
              "0           No  16.60     Yes              No     No             3.0   \n",
              "1           No  20.34      No              No    Yes             0.0   \n",
              "2           No  26.58     Yes              No     No            20.0   \n",
              "3           No  24.21      No              No     No             0.0   \n",
              "4           No  23.71      No              No     No            28.0   \n",
              "\n",
              "   MentalHealth DiffWalking     Sex  AgeCategory   Race Diabetic  \\\n",
              "0          30.0          No  Female        55-59  White      Yes   \n",
              "1           0.0          No  Female  80 or older  White       No   \n",
              "2          30.0          No    Male        65-69  White      Yes   \n",
              "3           0.0          No  Female        75-79  White       No   \n",
              "4           0.0         Yes  Female        40-44  White       No   \n",
              "\n",
              "  PhysicalActivity  GenHealth  SleepTime Asthma KidneyDisease SkinCancer  \n",
              "0              Yes  Very good        5.0    Yes            No        Yes  \n",
              "1              Yes  Very good        7.0     No            No         No  \n",
              "2              Yes       Fair        8.0    Yes            No         No  \n",
              "3               No       Good        6.0     No            No        Yes  \n",
              "4              Yes  Very good        8.0     No            No         No  "
            ],
            "text/html": [
              "\n",
              "  <div id=\"df-a721f567-eadd-4ca3-8bc5-435035523d55\">\n",
              "    <div class=\"colab-df-container\">\n",
              "      <div>\n",
              "<style scoped>\n",
              "    .dataframe tbody tr th:only-of-type {\n",
              "        vertical-align: middle;\n",
              "    }\n",
              "\n",
              "    .dataframe tbody tr th {\n",
              "        vertical-align: top;\n",
              "    }\n",
              "\n",
              "    .dataframe thead th {\n",
              "        text-align: right;\n",
              "    }\n",
              "</style>\n",
              "<table border=\"1\" class=\"dataframe\">\n",
              "  <thead>\n",
              "    <tr style=\"text-align: right;\">\n",
              "      <th></th>\n",
              "      <th>HeartDisease</th>\n",
              "      <th>BMI</th>\n",
              "      <th>Smoking</th>\n",
              "      <th>AlcoholDrinking</th>\n",
              "      <th>Stroke</th>\n",
              "      <th>PhysicalHealth</th>\n",
              "      <th>MentalHealth</th>\n",
              "      <th>DiffWalking</th>\n",
              "      <th>Sex</th>\n",
              "      <th>AgeCategory</th>\n",
              "      <th>Race</th>\n",
              "      <th>Diabetic</th>\n",
              "      <th>PhysicalActivity</th>\n",
              "      <th>GenHealth</th>\n",
              "      <th>SleepTime</th>\n",
              "      <th>Asthma</th>\n",
              "      <th>KidneyDisease</th>\n",
              "      <th>SkinCancer</th>\n",
              "    </tr>\n",
              "  </thead>\n",
              "  <tbody>\n",
              "    <tr>\n",
              "      <th>0</th>\n",
              "      <td>No</td>\n",
              "      <td>16.60</td>\n",
              "      <td>Yes</td>\n",
              "      <td>No</td>\n",
              "      <td>No</td>\n",
              "      <td>3.0</td>\n",
              "      <td>30.0</td>\n",
              "      <td>No</td>\n",
              "      <td>Female</td>\n",
              "      <td>55-59</td>\n",
              "      <td>White</td>\n",
              "      <td>Yes</td>\n",
              "      <td>Yes</td>\n",
              "      <td>Very good</td>\n",
              "      <td>5.0</td>\n",
              "      <td>Yes</td>\n",
              "      <td>No</td>\n",
              "      <td>Yes</td>\n",
              "    </tr>\n",
              "    <tr>\n",
              "      <th>1</th>\n",
              "      <td>No</td>\n",
              "      <td>20.34</td>\n",
              "      <td>No</td>\n",
              "      <td>No</td>\n",
              "      <td>Yes</td>\n",
              "      <td>0.0</td>\n",
              "      <td>0.0</td>\n",
              "      <td>No</td>\n",
              "      <td>Female</td>\n",
              "      <td>80 or older</td>\n",
              "      <td>White</td>\n",
              "      <td>No</td>\n",
              "      <td>Yes</td>\n",
              "      <td>Very good</td>\n",
              "      <td>7.0</td>\n",
              "      <td>No</td>\n",
              "      <td>No</td>\n",
              "      <td>No</td>\n",
              "    </tr>\n",
              "    <tr>\n",
              "      <th>2</th>\n",
              "      <td>No</td>\n",
              "      <td>26.58</td>\n",
              "      <td>Yes</td>\n",
              "      <td>No</td>\n",
              "      <td>No</td>\n",
              "      <td>20.0</td>\n",
              "      <td>30.0</td>\n",
              "      <td>No</td>\n",
              "      <td>Male</td>\n",
              "      <td>65-69</td>\n",
              "      <td>White</td>\n",
              "      <td>Yes</td>\n",
              "      <td>Yes</td>\n",
              "      <td>Fair</td>\n",
              "      <td>8.0</td>\n",
              "      <td>Yes</td>\n",
              "      <td>No</td>\n",
              "      <td>No</td>\n",
              "    </tr>\n",
              "    <tr>\n",
              "      <th>3</th>\n",
              "      <td>No</td>\n",
              "      <td>24.21</td>\n",
              "      <td>No</td>\n",
              "      <td>No</td>\n",
              "      <td>No</td>\n",
              "      <td>0.0</td>\n",
              "      <td>0.0</td>\n",
              "      <td>No</td>\n",
              "      <td>Female</td>\n",
              "      <td>75-79</td>\n",
              "      <td>White</td>\n",
              "      <td>No</td>\n",
              "      <td>No</td>\n",
              "      <td>Good</td>\n",
              "      <td>6.0</td>\n",
              "      <td>No</td>\n",
              "      <td>No</td>\n",
              "      <td>Yes</td>\n",
              "    </tr>\n",
              "    <tr>\n",
              "      <th>4</th>\n",
              "      <td>No</td>\n",
              "      <td>23.71</td>\n",
              "      <td>No</td>\n",
              "      <td>No</td>\n",
              "      <td>No</td>\n",
              "      <td>28.0</td>\n",
              "      <td>0.0</td>\n",
              "      <td>Yes</td>\n",
              "      <td>Female</td>\n",
              "      <td>40-44</td>\n",
              "      <td>White</td>\n",
              "      <td>No</td>\n",
              "      <td>Yes</td>\n",
              "      <td>Very good</td>\n",
              "      <td>8.0</td>\n",
              "      <td>No</td>\n",
              "      <td>No</td>\n",
              "      <td>No</td>\n",
              "    </tr>\n",
              "  </tbody>\n",
              "</table>\n",
              "</div>\n",
              "      <button class=\"colab-df-convert\" onclick=\"convertToInteractive('df-a721f567-eadd-4ca3-8bc5-435035523d55')\"\n",
              "              title=\"Convert this dataframe to an interactive table.\"\n",
              "              style=\"display:none;\">\n",
              "        \n",
              "  <svg xmlns=\"http://www.w3.org/2000/svg\" height=\"24px\"viewBox=\"0 0 24 24\"\n",
              "       width=\"24px\">\n",
              "    <path d=\"M0 0h24v24H0V0z\" fill=\"none\"/>\n",
              "    <path d=\"M18.56 5.44l.94 2.06.94-2.06 2.06-.94-2.06-.94-.94-2.06-.94 2.06-2.06.94zm-11 1L8.5 8.5l.94-2.06 2.06-.94-2.06-.94L8.5 2.5l-.94 2.06-2.06.94zm10 10l.94 2.06.94-2.06 2.06-.94-2.06-.94-.94-2.06-.94 2.06-2.06.94z\"/><path d=\"M17.41 7.96l-1.37-1.37c-.4-.4-.92-.59-1.43-.59-.52 0-1.04.2-1.43.59L10.3 9.45l-7.72 7.72c-.78.78-.78 2.05 0 2.83L4 21.41c.39.39.9.59 1.41.59.51 0 1.02-.2 1.41-.59l7.78-7.78 2.81-2.81c.8-.78.8-2.07 0-2.86zM5.41 20L4 18.59l7.72-7.72 1.47 1.35L5.41 20z\"/>\n",
              "  </svg>\n",
              "      </button>\n",
              "      \n",
              "  <style>\n",
              "    .colab-df-container {\n",
              "      display:flex;\n",
              "      flex-wrap:wrap;\n",
              "      gap: 12px;\n",
              "    }\n",
              "\n",
              "    .colab-df-convert {\n",
              "      background-color: #E8F0FE;\n",
              "      border: none;\n",
              "      border-radius: 50%;\n",
              "      cursor: pointer;\n",
              "      display: none;\n",
              "      fill: #1967D2;\n",
              "      height: 32px;\n",
              "      padding: 0 0 0 0;\n",
              "      width: 32px;\n",
              "    }\n",
              "\n",
              "    .colab-df-convert:hover {\n",
              "      background-color: #E2EBFA;\n",
              "      box-shadow: 0px 1px 2px rgba(60, 64, 67, 0.3), 0px 1px 3px 1px rgba(60, 64, 67, 0.15);\n",
              "      fill: #174EA6;\n",
              "    }\n",
              "\n",
              "    [theme=dark] .colab-df-convert {\n",
              "      background-color: #3B4455;\n",
              "      fill: #D2E3FC;\n",
              "    }\n",
              "\n",
              "    [theme=dark] .colab-df-convert:hover {\n",
              "      background-color: #434B5C;\n",
              "      box-shadow: 0px 1px 3px 1px rgba(0, 0, 0, 0.15);\n",
              "      filter: drop-shadow(0px 1px 2px rgba(0, 0, 0, 0.3));\n",
              "      fill: #FFFFFF;\n",
              "    }\n",
              "  </style>\n",
              "\n",
              "      <script>\n",
              "        const buttonEl =\n",
              "          document.querySelector('#df-a721f567-eadd-4ca3-8bc5-435035523d55 button.colab-df-convert');\n",
              "        buttonEl.style.display =\n",
              "          google.colab.kernel.accessAllowed ? 'block' : 'none';\n",
              "\n",
              "        async function convertToInteractive(key) {\n",
              "          const element = document.querySelector('#df-a721f567-eadd-4ca3-8bc5-435035523d55');\n",
              "          const dataTable =\n",
              "            await google.colab.kernel.invokeFunction('convertToInteractive',\n",
              "                                                     [key], {});\n",
              "          if (!dataTable) return;\n",
              "\n",
              "          const docLinkHtml = 'Like what you see? Visit the ' +\n",
              "            '<a target=\"_blank\" href=https://colab.research.google.com/notebooks/data_table.ipynb>data table notebook</a>'\n",
              "            + ' to learn more about interactive tables.';\n",
              "          element.innerHTML = '';\n",
              "          dataTable['output_type'] = 'display_data';\n",
              "          await google.colab.output.renderOutput(dataTable, element);\n",
              "          const docLink = document.createElement('div');\n",
              "          docLink.innerHTML = docLinkHtml;\n",
              "          element.appendChild(docLink);\n",
              "        }\n",
              "      </script>\n",
              "    </div>\n",
              "  </div>\n",
              "  "
            ]
          },
          "metadata": {},
          "execution_count": 2
        }
      ]
    },
    {
      "cell_type": "code",
      "source": [
        "df = df.drop(columns= [\"MentalHealth\",\"PhysicalHealth\"])"
      ],
      "metadata": {
        "id": "dKHACQ6Zt3uU"
      },
      "execution_count": 3,
      "outputs": []
    },
    {
      "cell_type": "code",
      "source": [
        "from sklearn.preprocessing import LabelEncoder\n",
        "# Doing internal factors (age, sex, race)\n",
        "\n",
        "HeartDisease_le = LabelEncoder()\n",
        "Smoking_le = LabelEncoder()\n",
        "AlcoholDrinking_le = LabelEncoder()\n",
        "Stroke_le = LabelEncoder()\n",
        "DiffWalking_le = LabelEncoder()\n",
        "Sex_le = LabelEncoder()\n",
        "# AgeCategory_le = LabelEncoder()\n",
        "# Race_le = LabelEncoder()\n",
        "Diabetic_le = LabelEncoder()\n",
        "PhysicalActivity_le = LabelEncoder()\n",
        "# GenHealth_le = LabelEncoder()\n",
        "Asthma_le = LabelEncoder()\n",
        "KidneyDisease_le = LabelEncoder()\n",
        "SkinCancer_le = LabelEncoder()\n",
        "\n",
        "\n",
        "df['HeartDisease'] = HeartDisease_le.fit_transform(df['HeartDisease'])\n",
        "df['Smoking'] = Smoking_le.fit_transform(df['Smoking'])\n",
        "df['AlcoholDrinking'] = AlcoholDrinking_le.fit_transform(df['AlcoholDrinking'])\n",
        "df['Stroke'] = Stroke_le.fit_transform(df['Stroke'])\n",
        "df['DiffWalking'] = DiffWalking_le.fit_transform(df['DiffWalking'])\n",
        "df['Sex'] = Sex_le.fit_transform(df['Sex'])\n",
        "# df['AgeCategory'] = AgeCategory_le.fit_transform(df['AgeCategory'])\n",
        "# df['Race'] = Race_le.fit_transform(df['Race'])\n",
        "df['Diabetic'] = Diabetic_le.fit_transform(df['Diabetic'])\n",
        "df['PhysicalActivity'] = PhysicalActivity_le.fit_transform(df['PhysicalActivity'])\n",
        "# df['GenHealth'] = GenHealth_le.fit_transform(df['GenHealth'])\n",
        "df['Asthma'] = Asthma_le.fit_transform(df['Asthma'])\n",
        "df['KidneyDisease'] = KidneyDisease_le.fit_transform(df['KidneyDisease'])\n",
        "df['SkinCancer'] = SkinCancer_le.fit_transform(df['SkinCancer'])\n",
        "\n",
        "\n",
        "df = pd.concat([df, pd.get_dummies(df['Sex'], prefix='Sex')], axis=1)\n",
        "df = pd.concat([df, pd.get_dummies(df['AgeCategory'], prefix='AgeCategory')], axis=1)\n",
        "df = pd.concat([df, pd.get_dummies(df['Race'], prefix='Race')], axis=1)\n",
        "df = pd.concat([df, pd.get_dummies(df['GenHealth'], prefix='GenHealth')], axis=1)\n",
        "\n",
        "df = df.drop(columns=['AgeCategory', 'Race', 'GenHealth', 'Sex'])\n",
        "\n",
        "df.rename(columns = {'AgeCategory_18-24':'18-24', 'AgeCategory_25-29':'25-29',\n",
        "                            'AgeCategory_30-34': '30-34', 'AgeCategory_35-39':'35-39', 'AgeCategory_40-44':'40-44',\n",
        "       'AgeCategory_45-49':'45-49', 'AgeCategory_50-54':'50-54', 'AgeCategory_55-59':'55-59',\n",
        "       'AgeCategory_60-64':'60-64', 'AgeCategory_65-69':'65-69', 'AgeCategory_70-74':'70-74',\n",
        "       'AgeCategory_75-79':\"75-79\", 'AgeCategory_80 or older': '80+', 'Sex_0' : \"IsFemale\", 'Sex_1' : \"IsMale\",}, inplace = True)\n"
      ],
      "metadata": {
        "id": "Nue3eeMpqyGy"
      },
      "execution_count": 4,
      "outputs": []
    },
    {
      "cell_type": "code",
      "source": [
        "cleanedDf = df.drop(columns= ['BMI', 'Smoking', 'AlcoholDrinking', 'Stroke',\n",
        "       'DiffWalking', 'Diabetic', 'PhysicalActivity', 'SleepTime',\n",
        "       'Asthma', 'KidneyDisease', 'SkinCancer', 'GenHealth_Excellent',\n",
        "       'GenHealth_Fair', 'GenHealth_Good', 'GenHealth_Poor',\n",
        "       'GenHealth_Very good'])\n",
        "\n",
        "\n",
        "\n",
        "\n",
        "\n",
        "\n",
        "ageGroups = ['18-24', '25-29', '30-34', '35-39', '40-44',\n",
        "       '45-49', '50-54', '55-59', '60-64', '65-69', '70-74', '75-79', '80+']\n",
        "\n",
        "raceGroups = ['Race_American Indian/Alaskan Native', 'Race_Asian', 'Race_Black',\n",
        "       'Race_Hispanic', 'Race_Other', 'Race_White']"
      ],
      "metadata": {
        "id": "WPyabu4evRW6"
      },
      "execution_count": 5,
      "outputs": []
    },
    {
      "cell_type": "markdown",
      "source": [
        "#**Balancing the Data and Train Test Split**"
      ],
      "metadata": {
        "id": "r6whhE50EoSS"
      }
    },
    {
      "cell_type": "code",
      "source": [
        "from sklearn.model_selection import train_test_split\n",
        "\n",
        "heartDisease_df = df[df['HeartDisease'] == 1]\n",
        "train_heartDisease, test_heartDisease = train_test_split(heartDisease_df, train_size=0.7)\n",
        "num_heartDisease = len(train_heartDisease)\n",
        "no_heartDisease_df = df[df['HeartDisease'] == 0]\n",
        "\n",
        "\n",
        "heartDisease_df\n",
        "agePercents = []\n",
        "agePercentsMale = []\n",
        "agePercentsFemale = []\n",
        "\n",
        "\n",
        "maledf = cleanedDf.loc[cleanedDf['IsMale'] == 1]\n",
        "femaledf = cleanedDf.loc[cleanedDf['IsFemale'] == 1]\n",
        "\n",
        "heartDiseasemale = maledf.loc[maledf['HeartDisease'] == 1]\n",
        "heartDiseasefemale = femaledf.loc[femaledf['HeartDisease'] == 1]\n",
        "\n",
        "# Male Groups\n",
        "for i in ageGroups:\n",
        "  # print(i + \" percent is: \" +  str(heartDisease_df[i].sum()/cleanedDf[i].sum()))\n",
        "  agePercentsMale.append(heartDiseasemale[i].sum()/cleanedDf[i].sum())\n",
        "  agePercentsFemale.append(heartDiseasefemale[i].sum()/cleanedDf[i].sum())\n",
        "  agePercents.append(heartDisease_df[i].sum()/cleanedDf[i].sum())\n",
        "\n",
        "\n",
        "\n",
        "\n",
        "# print(agePercentsMale)\n",
        "# print(agePercentsFemale)\n",
        "\n",
        "newdf = pd.DataFrame({'Age groups':ageGroups, 'Heart disease percent Male':agePercentsMale, 'Heart disease percent Female':agePercentsFemale, 'Heart disease percent All':agePercents})\n",
        "\n"
      ],
      "metadata": {
        "id": "gHo7TzMV3W_L"
      },
      "execution_count": 6,
      "outputs": []
    },
    {
      "cell_type": "markdown",
      "source": [
        "#**Graph Building**"
      ],
      "metadata": {
        "id": "9ZbLN5ceFB4J"
      }
    },
    {
      "cell_type": "code",
      "source": [
        "ax = newdf.plot.barh(x='Age groups', y=['Heart disease percent Male', 'Heart disease percent Female'], figsize=(15,8), color=['Blue', '#fa6edb'])\n",
        "plt.ylabel('Age Groups', fontsize=18)\n",
        "plt.xlabel('Percent', fontsize=16)\n",
        "plt.xticks(fontsize=12)\n",
        "plt.yticks(fontsize=12);"
      ],
      "metadata": {
        "colab": {
          "base_uri": "https://localhost:8080/",
          "height": 505
        },
        "id": "Mcp_3H8RFA6r",
        "outputId": "e1cec6ea-86b1-459c-a9a9-b421c87edf23"
      },
      "execution_count": 7,
      "outputs": [
        {
          "output_type": "display_data",
          "data": {
            "text/plain": [
              "<Figure size 1080x576 with 1 Axes>"
            ],
            "image/png": "[encoded data removed]"
          },
          "metadata": {
            "needs_background": "light"
          }
        }
      ]
    },
    {
      "cell_type": "code",
      "source": [
        "racePercents = []\n",
        "\n",
        "\n",
        "for i in raceGroups:\n",
        "  # print(i + \" percent is: \" +  str(heartDisease_df[i].sum()/cleanedDf[i].sum()))\n",
        "  racePercents.append(heartDisease_df[i].sum()/cleanedDf[i].sum())\n",
        "\n",
        "newdf = pd.DataFrame({'Race groups':raceGroups, 'Heart disease percent':racePercents})\n",
        "\n",
        "\n",
        "\n",
        "ax = newdf.plot.barh(x='Race groups', y='Heart disease percent', figsize=(15,8))\n",
        "newdf"
      ],
      "metadata": {
        "colab": {
          "base_uri": "https://localhost:8080/",
          "height": 703
        },
        "id": "57H3eLRf-oZh",
        "outputId": "4ebffa04-72d4-40ad-de31-c506f1044545"
      },
      "execution_count": 8,
      "outputs": [
        {
          "output_type": "execute_result",
          "data": {
            "text/plain": [
              "                           Race groups  Heart disease percent\n",
              "0  Race_American Indian/Alaskan Native               0.104191\n",
              "1                           Race_Asian               0.032970\n",
              "2                           Race_Black               0.075374\n",
              "3                        Race_Hispanic               0.052576\n",
              "4                           Race_Other               0.081076\n",
              "5                           Race_White               0.091786"
            ],
            "text/html": [
              "\n",
              "  <div id=\"df-87fd5f6e-773f-438d-be20-fc65812ed38c\">\n",
              "    <div class=\"colab-df-container\">\n",
              "      <div>\n",
              "<style scoped>\n",
              "    .dataframe tbody tr th:only-of-type {\n",
              "        vertical-align: middle;\n",
              "    }\n",
              "\n",
              "    .dataframe tbody tr th {\n",
              "        vertical-align: top;\n",
              "    }\n",
              "\n",
              "    .dataframe thead th {\n",
              "        text-align: right;\n",
              "    }\n",
              "</style>\n",
              "<table border=\"1\" class=\"dataframe\">\n",
              "  <thead>\n",
              "    <tr style=\"text-align: right;\">\n",
              "      <th></th>\n",
              "      <th>Race groups</th>\n",
              "      <th>Heart disease percent</th>\n",
              "    </tr>\n",
              "  </thead>\n",
              "  <tbody>\n",
              "    <tr>\n",
              "      <th>0</th>\n",
              "      <td>Race_American Indian/Alaskan Native</td>\n",
              "      <td>0.104191</td>\n",
              "    </tr>\n",
              "    <tr>\n",
              "      <th>1</th>\n",
              "      <td>Race_Asian</td>\n",
              "      <td>0.032970</td>\n",
              "    </tr>\n",
              "    <tr>\n",
              "      <th>2</th>\n",
              "      <td>Race_Black</td>\n",
              "      <td>0.075374</td>\n",
              "    </tr>\n",
              "    <tr>\n",
              "      <th>3</th>\n",
              "      <td>Race_Hispanic</td>\n",
              "      <td>0.052576</td>\n",
              "    </tr>\n",
              "    <tr>\n",
              "      <th>4</th>\n",
              "      <td>Race_Other</td>\n",
              "      <td>0.081076</td>\n",
              "    </tr>\n",
              "    <tr>\n",
              "      <th>5</th>\n",
              "      <td>Race_White</td>\n",
              "      <td>0.091786</td>\n",
              "    </tr>\n",
              "  </tbody>\n",
              "</table>\n",
              "</div>\n",
              "      <button class=\"colab-df-convert\" onclick=\"convertToInteractive('df-87fd5f6e-773f-438d-be20-fc65812ed38c')\"\n",
              "              title=\"Convert this dataframe to an interactive table.\"\n",
              "              style=\"display:none;\">\n",
              "        \n",
              "  <svg xmlns=\"http://www.w3.org/2000/svg\" height=\"24px\"viewBox=\"0 0 24 24\"\n",
              "       width=\"24px\">\n",
              "    <path d=\"M0 0h24v24H0V0z\" fill=\"none\"/>\n",
              "    <path d=\"M18.56 5.44l.94 2.06.94-2.06 2.06-.94-2.06-.94-.94-2.06-.94 2.06-2.06.94zm-11 1L8.5 8.5l.94-2.06 2.06-.94-2.06-.94L8.5 2.5l-.94 2.06-2.06.94zm10 10l.94 2.06.94-2.06 2.06-.94-2.06-.94-.94-2.06-.94 2.06-2.06.94z\"/><path d=\"M17.41 7.96l-1.37-1.37c-.4-.4-.92-.59-1.43-.59-.52 0-1.04.2-1.43.59L10.3 9.45l-7.72 7.72c-.78.78-.78 2.05 0 2.83L4 21.41c.39.39.9.59 1.41.59.51 0 1.02-.2 1.41-.59l7.78-7.78 2.81-2.81c.8-.78.8-2.07 0-2.86zM5.41 20L4 18.59l7.72-7.72 1.47 1.35L5.41 20z\"/>\n",
              "  </svg>\n",
              "      </button>\n",
              "      \n",
              "  <style>\n",
              "    .colab-df-container {\n",
              "      display:flex;\n",
              "      flex-wrap:wrap;\n",
              "      gap: 12px;\n",
              "    }\n",
              "\n",
              "    .colab-df-convert {\n",
              "      background-color: #E8F0FE;\n",
              "      border: none;\n",
              "      border-radius: 50%;\n",
              "      cursor: pointer;\n",
              "      display: none;\n",
              "      fill: #1967D2;\n",
              "      height: 32px;\n",
              "      padding: 0 0 0 0;\n",
              "      width: 32px;\n",
              "    }\n",
              "\n",
              "    .colab-df-convert:hover {\n",
              "      background-color: #E2EBFA;\n",
              "      box-shadow: 0px 1px 2px rgba(60, 64, 67, 0.3), 0px 1px 3px 1px rgba(60, 64, 67, 0.15);\n",
              "      fill: #174EA6;\n",
              "    }\n",
              "\n",
              "    [theme=dark] .colab-df-convert {\n",
              "      background-color: #3B4455;\n",
              "      fill: #D2E3FC;\n",
              "    }\n",
              "\n",
              "    [theme=dark] .colab-df-convert:hover {\n",
              "      background-color: #434B5C;\n",
              "      box-shadow: 0px 1px 3px 1px rgba(0, 0, 0, 0.15);\n",
              "      filter: drop-shadow(0px 1px 2px rgba(0, 0, 0, 0.3));\n",
              "      fill: #FFFFFF;\n",
              "    }\n",
              "  </style>\n",
              "\n",
              "      <script>\n",
              "        const buttonEl =\n",
              "          document.querySelector('#df-87fd5f6e-773f-438d-be20-fc65812ed38c button.colab-df-convert');\n",
              "        buttonEl.style.display =\n",
              "          google.colab.kernel.accessAllowed ? 'block' : 'none';\n",
              "\n",
              "        async function convertToInteractive(key) {\n",
              "          const element = document.querySelector('#df-87fd5f6e-773f-438d-be20-fc65812ed38c');\n",
              "          const dataTable =\n",
              "            await google.colab.kernel.invokeFunction('convertToInteractive',\n",
              "                                                     [key], {});\n",
              "          if (!dataTable) return;\n",
              "\n",
              "          const docLinkHtml = 'Like what you see? Visit the ' +\n",
              "            '<a target=\"_blank\" href=https://colab.research.google.com/notebooks/data_table.ipynb>data table notebook</a>'\n",
              "            + ' to learn more about interactive tables.';\n",
              "          element.innerHTML = '';\n",
              "          dataTable['output_type'] = 'display_data';\n",
              "          await google.colab.output.renderOutput(dataTable, element);\n",
              "          const docLink = document.createElement('div');\n",
              "          docLink.innerHTML = docLinkHtml;\n",
              "          element.appendChild(docLink);\n",
              "        }\n",
              "      </script>\n",
              "    </div>\n",
              "  </div>\n",
              "  "
            ]
          },
          "metadata": {},
          "execution_count": 8
        },
        {
          "output_type": "display_data",
          "data": {
            "text/plain": [
              "<Figure size 1080x576 with 1 Axes>"
            ],
            "image/png": "[encoded data removed]"
          },
          "metadata": {
            "needs_background": "light"
          }
        }
      ]
    },
    {
      "cell_type": "code",
      "source": [
        "from sklearn.model_selection import train_test_split\n",
        "from sklearn.linear_model import LogisticRegression\n",
        "from sklearn.metrics import confusion_matrix, classification_report, accuracy_score, ConfusionMatrixDisplay\n",
        "\n",
        "train_noHeartDisease, test_noHeartDisease = train_test_split(no_heartDisease_df, train_size=num_heartDisease)\n",
        "train_df = pd.concat([train_heartDisease, train_noHeartDisease])\n",
        "test_df = pd.concat([test_heartDisease, test_noHeartDisease])\n"
      ],
      "metadata": {
        "id": "e1OIq9jOEbWk"
      },
      "execution_count": 10,
      "outputs": []
    },
    {
      "cell_type": "code",
      "source": [
        "X_train = train_df[['18-24', '25-29', '30-34',\n",
        "       '35-39', '40-44', '45-49', '50-54', '55-59', '60-64', '65-69', '70-74',\n",
        "       '75-79', '80+']]\n",
        "X_test = test_df[['18-24', '25-29', '30-34',\n",
        "       '35-39', '40-44', '45-49', '50-54', '55-59', '60-64', '65-69', '70-74',\n",
        "       '75-79', '80+']]\n",
        "\n",
        "\n",
        "\n",
        "\n",
        "X_train2 = train_df[['Race_American Indian/Alaskan Native', 'Race_Asian',\n",
        "       'Race_Black', 'Race_Hispanic', 'Race_Other', 'Race_White']]\n",
        "X_test2 = test_df[['Race_American Indian/Alaskan Native', 'Race_Asian',\n",
        "       'Race_Black', 'Race_Hispanic', 'Race_Other', 'Race_White']]\n",
        "                    \n",
        "y_train = train_df['HeartDisease']\n",
        "y_test = test_df['HeartDisease']"
      ],
      "metadata": {
        "id": "dsfm3ZzHe5x6"
      },
      "execution_count": 11,
      "outputs": []
    },
    {
      "cell_type": "markdown",
      "source": [
        "#**Building Predictive Models (Logistic Regression)**\n",
        "Here I made some Logistic Regression Models to see and test to find high accuracy. Much of this is just me familiarizing myself with the data by testing out models using different columns. The graphs used in the presentation are in the other ipynb file."
      ],
      "metadata": {
        "id": "Sw4pbku4FZLS"
      }
    },
    {
      "cell_type": "code",
      "source": [
        "logr = LogisticRegression(max_iter=10000)\n",
        "logr.fit(X_train, y_train)\n",
        "\n",
        "logr_preds = logr.predict(X_test)\n",
        "logr_proba_preds = logr.predict_proba(X_test)[:,1]"
      ],
      "metadata": {
        "id": "LXU4UiSrFgY0"
      },
      "execution_count": 13,
      "outputs": []
    },
    {
      "cell_type": "code",
      "source": [
        "confusion_matrix(y_test, logr_preds, normalize='true')\n"
      ],
      "metadata": {
        "colab": {
          "base_uri": "https://localhost:8080/"
        },
        "id": "TEeTA-9NIpvp",
        "outputId": "0b4dcb5e-449b-4297-9dd5-e19122dd88ea"
      },
      "execution_count": 14,
      "outputs": [
        {
          "output_type": "execute_result",
          "data": {
            "text/plain": [
              "array([[0.58048166, 0.41951834],\n",
              "       [0.20457867, 0.79542133]])"
            ]
          },
          "metadata": {},
          "execution_count": 14
        }
      ]
    },
    {
      "cell_type": "code",
      "source": [
        "ConfusionMatrixDisplay.from_predictions(y_test, logr_preds, normalize='true')\n",
        "plt.show()"
      ],
      "metadata": {
        "colab": {
          "base_uri": "https://localhost:8080/",
          "height": 279
        },
        "id": "Qe8b5b8-Isa4",
        "outputId": "d580866c-0c2c-473c-d82b-6b23f49642e1"
      },
      "execution_count": 15,
      "outputs": [
        {
          "output_type": "display_data",
          "data": {
            "text/plain": [
              "<Figure size 432x288 with 2 Axes>"
            ],
            "image/png": "[encoded data removed]"
          },
          "metadata": {
            "needs_background": "light"
          }
        }
      ]
    },
    {
      "cell_type": "code",
      "source": [
        "import matplotlib.pyplot as plt\n",
        "plt.figure(figsize=(20, 8))\n",
        "plt.bar(x=X_train.columns, height=logr.coef_[0], color = ['g', 'g','g', 'g','g', 'g','r','r','r','r','r','r','r']) # The zero is needed because the coefficients are an array of arrays.\n",
        "plt.xticks(rotation = 90) # Rotate the labels so you can read them\n",
        "\n",
        "plt.title('Age Coefficients', fontsize=20)\n",
        "plt.xlabel('Category', fontsize=16)\n",
        "plt.ylabel('Coefficient', fontsize=16)\n",
        "plt.xticks(fontsize=15, rotation=0)\n",
        "plt.yticks(fontsize=15)\n",
        ";"
      ],
      "metadata": {
        "colab": {
          "base_uri": "https://localhost:8080/",
          "height": 547
        },
        "id": "H_zvTrLOarm1",
        "outputId": "95387571-7d74-4518-c97d-29be78316757"
      },
      "execution_count": 28,
      "outputs": [
        {
          "output_type": "execute_result",
          "data": {
            "text/plain": [
              "''"
            ],
            "application/vnd.google.colaboratory.intrinsic+json": {
              "type": "string"
            }
          },
          "metadata": {},
          "execution_count": 28
        },
        {
          "output_type": "display_data",
          "data": {
            "text/plain": [
              "<Figure size 1440x576 with 1 Axes>"
            ],
            "image/png": "[encoded data removed]"
          },
          "metadata": {
            "needs_background": "light"
          }
        }
      ]
    },
    {
      "cell_type": "code",
      "source": [
        "logr2 = LogisticRegression(max_iter=10000)\n",
        "logr2.fit(X_train2, y_train)\n",
        "\n",
        "logr_preds2 = logr2.predict(X_test2)\n",
        "logr_proba_preds2 = logr2.predict_proba(X_test2)[:,1]"
      ],
      "metadata": {
        "id": "bW9jTECOmnPa"
      },
      "execution_count": 18,
      "outputs": []
    },
    {
      "cell_type": "code",
      "source": [
        "confusion_matrix(y_test, logr_preds, normalize='true')\n",
        "ConfusionMatrixDisplay.from_predictions(y_test, logr_preds, normalize='true')\n",
        "plt.show()"
      ],
      "metadata": {
        "colab": {
          "base_uri": "https://localhost:8080/",
          "height": 279
        },
        "id": "pPcSeMZ2muYf",
        "outputId": "8668bac5-253a-4998-c3c7-41bcd1fb2acc"
      },
      "execution_count": 19,
      "outputs": [
        {
          "output_type": "display_data",
          "data": {
            "text/plain": [
              "<Figure size 432x288 with 2 Axes>"
            ],
            "image/png": "[encoded data removed]"
          },
          "metadata": {
            "needs_background": "light"
          }
        }
      ]
    },
    {
      "cell_type": "code",
      "source": [
        "plt.figure(figsize=(20, 8))\n",
        "plt.bar(x=X_train2.columns, height=logr2.coef_[0], color = ['r','g','r','g','r','r']) # The zero is needed because the coefficients are an array of arrays.\n",
        "plt.xticks(rotation = 90) # Rotate the labels so you can read them\n",
        "\n",
        "plt.title('Race Coefficients', fontsize=20)\n",
        "plt.xlabel('Category', fontsize=16)\n",
        "plt.ylabel('Coefficient', fontsize=16)\n",
        "plt.xticks(fontsize=12, rotation=0)\n",
        "plt.yticks(fontsize=15)\n",
        ";"
      ],
      "metadata": {
        "colab": {
          "base_uri": "https://localhost:8080/",
          "height": 545
        },
        "id": "GZwjMceNm1Hv",
        "outputId": "f01c593b-a195-47ba-dcc7-62812b424bd2"
      },
      "execution_count": 20,
      "outputs": [
        {
          "output_type": "execute_result",
          "data": {
            "text/plain": [
              "''"
            ],
            "application/vnd.google.colaboratory.intrinsic+json": {
              "type": "string"
            }
          },
          "metadata": {},
          "execution_count": 20
        },
        {
          "output_type": "display_data",
          "data": {
            "text/plain": [
              "<Figure size 1440x576 with 1 Axes>"
            ],
            "image/png": "[encoded data removed]"
          },
          "metadata": {
            "needs_background": "light"
          }
        }
      ]
    },
    {
      "cell_type": "code",
      "source": [
        "X_train3 = train_df[['Smoking', 'Stroke',\n",
        "       'DiffWalking', 'IsFemale', 'IsMale',\n",
        "       'KidneyDisease', 'SkinCancer', '18-24', '25-29', '30-34',\n",
        "       '35-39', '40-44', '45-49', '50-54', '55-59', '60-64', '65-69', '70-74',\n",
        "       '75-79', '80+', 'Race_Asian', 'Race_American Indian/Alaskan Native',\n",
        "       'GenHealth_Excellent', 'GenHealth_Fair', 'GenHealth_Good', \n",
        "       'GenHealth_Poor', 'GenHealth_Very good']]\n",
        "\n",
        "X_test3 = test_df[['Smoking', 'Stroke',\n",
        "       'DiffWalking', 'IsFemale', 'IsMale',\n",
        "      'KidneyDisease', 'SkinCancer', '18-24', '25-29', '30-34',\n",
        "       '35-39', '40-44', '45-49', '50-54', '55-59', '60-64', '65-69', '70-74',\n",
        "       '75-79', '80+', 'Race_Asian','Race_American Indian/Alaskan Native',\n",
        "       \n",
        "       'GenHealth_Excellent', 'GenHealth_Fair', 'GenHealth_Good', \n",
        "       'GenHealth_Poor', 'GenHealth_Very good']]"
      ],
      "metadata": {
        "id": "08FBqbjmrA6r"
      },
      "execution_count": 21,
      "outputs": []
    },
    {
      "cell_type": "code",
      "source": [
        "logr3 = LogisticRegression(max_iter=10000)\n",
        "logr3.fit(X_train3, y_train)\n",
        "\n",
        "logr_preds3 = logr3.predict(X_test3)\n",
        "logr_proba_preds3 = logr3.predict_proba(X_test3)[:,1]"
      ],
      "metadata": {
        "id": "6IxZ8AE8q1MB"
      },
      "execution_count": 22,
      "outputs": []
    },
    {
      "cell_type": "code",
      "source": [
        "confusion_matrix(y_test, logr_preds3, normalize='true')\n",
        "ConfusionMatrixDisplay.from_predictions(y_test, logr_preds3, normalize='true')\n",
        "plt.show()"
      ],
      "metadata": {
        "colab": {
          "base_uri": "https://localhost:8080/",
          "height": 279
        },
        "id": "whT-sKrTrSw7",
        "outputId": "fd395955-1bed-445d-dd50-ef928672774d"
      },
      "execution_count": 23,
      "outputs": [
        {
          "output_type": "display_data",
          "data": {
            "text/plain": [
              "<Figure size 432x288 with 2 Axes>"
            ],
            "image/png": "[encoded data removed]"
          },
          "metadata": {
            "needs_background": "light"
          }
        }
      ]
    },
    {
      "cell_type": "code",
      "source": [
        "X_train4 = train_df[['IsFemale', 'IsMale', '18-24', '25-29',\n",
        "       '30-34', '35-39', '40-44', '45-49', '50-54', '55-59', '60-64', '65-69',\n",
        "       '70-74', '75-79', '80+', 'Race_American Indian/Alaskan Native',\n",
        "       'Race_Asian', 'Race_Black', 'Race_Hispanic', 'Race_Other', 'Race_White']]\n",
        "\n",
        "X_test4 = test_df[['IsFemale', 'IsMale', '18-24', '25-29',\n",
        "       '30-34', '35-39', '40-44', '45-49', '50-54', '55-59', '60-64', '65-69',\n",
        "       '70-74', '75-79', '80+', 'Race_American Indian/Alaskan Native',\n",
        "       'Race_Asian', 'Race_Black', 'Race_Hispanic', 'Race_Other', 'Race_White']]"
      ],
      "metadata": {
        "id": "dPAqHi2wWACE"
      },
      "execution_count": 24,
      "outputs": []
    },
    {
      "cell_type": "code",
      "source": [
        "logr4 = LogisticRegression(max_iter=10000)\n",
        "logr4.fit(X_train4, y_train)\n",
        "\n",
        "logr_preds4 = logr4.predict(X_test4)\n",
        "logr_proba_preds4 = logr4.predict_proba(X_test4)[:,1]"
      ],
      "metadata": {
        "id": "HmeiDZPlWXXl"
      },
      "execution_count": 25,
      "outputs": []
    },
    {
      "cell_type": "code",
      "source": [
        "confusion_matrix(y_test, logr_preds4, normalize='true')\n",
        "ConfusionMatrixDisplay.from_predictions(y_test, logr_preds4, normalize='true')\n",
        "plt.show()"
      ],
      "metadata": {
        "colab": {
          "base_uri": "https://localhost:8080/",
          "height": 279
        },
        "id": "1zx53X1_WcYL",
        "outputId": "da49f2dd-0276-40c8-9c5f-e265480b41d8"
      },
      "execution_count": 26,
      "outputs": [
        {
          "output_type": "display_data",
          "data": {
            "text/plain": [
              "<Figure size 432x288 with 2 Axes>"
            ],
            "image/png": "[encoded data removed]"
          },
          "metadata": {
            "needs_background": "light"
          }
        }
      ]
    },
    {
      "cell_type": "code",
      "source": [
        "plt.figure(figsize=(30, 8))\n",
        "plt.bar(x=X_train4.columns, height=logr4.coef_[0]) # The zero is needed because the coefficients are an array of arrays.\n",
        "plt.xticks(rotation = 90) # Rotate the labels so you can read them\n",
        "\n",
        "plt.title('Race Coefficients', fontsize=20)\n",
        "plt.xlabel('Category', fontsize=16)\n",
        "plt.ylabel('Coefficient', fontsize=16)\n",
        "plt.xticks(fontsize=12, rotation=90)\n",
        "plt.yticks(fontsize=15)\n",
        ";"
      ],
      "metadata": {
        "colab": {
          "base_uri": "https://localhost:8080/",
          "height": 621
        },
        "id": "jrJGqM74Wily",
        "outputId": "91492eb8-e3cc-4ea9-c1a5-7a287ea3f9e2"
      },
      "execution_count": 27,
      "outputs": [
        {
          "output_type": "execute_result",
          "data": {
            "text/plain": [
              "''"
            ],
            "application/vnd.google.colaboratory.intrinsic+json": {
              "type": "string"
            }
          },
          "metadata": {},
          "execution_count": 27
        },
        {
          "output_type": "display_data",
          "data": {
            "text/plain": [
              "<Figure size 2160x576 with 1 Axes>"
            ],
            "image/png": "[encoded data removed]"
          },
          "metadata": {
            "needs_background": "light"
          }
        }
      ]
    }
  ]
}